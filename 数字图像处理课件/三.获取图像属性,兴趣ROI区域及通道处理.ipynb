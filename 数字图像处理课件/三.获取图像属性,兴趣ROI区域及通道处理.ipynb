{
 "cells": [
  {
   "cell_type": "markdown",
   "id": "5b311590",
   "metadata": {},
   "source": [
    "# 三.获取图像属性,兴趣ROI区域及通道处理"
   ]
  },
  {
   "cell_type": "markdown",
   "id": "a5a26f55",
   "metadata": {},
   "source": [
    "主要讲解Python调用OpenCV\n",
    "\n",
    "1.获取图像属性\n",
    "\n",
    "2.截取感兴趣ROI区域\n",
    "\n",
    "3.处理图像通道\n"
   ]
  },
  {
   "cell_type": "markdown",
   "id": "c8f308b8",
   "metadata": {},
   "source": [
    "## 3.1获取图像属性"
   ]
  },
  {
   "cell_type": "markdown",
   "id": "15db3364",
   "metadata": {},
   "source": [
    "1.shape\n",
    "\n",
    "通过shape关键字获取图像的形状，返回包含行数、列数、通道数的元祖。其中灰度图像返回行数和列数，彩色图像返回行数、列数和通道数。如下图所示：\n"
   ]
  },
  {
   "cell_type": "code",
   "execution_count": null,
   "id": "bb3eb60f",
   "metadata": {},
   "outputs": [
    {
     "name": "stdout",
     "output_type": "stream",
     "text": [
      "(400, 400, 3)\n"
     ]
    }
   ],
   "source": [
    " #-*- coding:utf-8 -*-\n",
    "import cv2\n",
    "import numpy\n",
    "\n",
    "#读取图片\n",
    "img = cv2.imread(\"./test.jpg\", cv2.IMREAD_UNCHANGED)\n",
    "\n",
    "#获取图像形状\n",
    "print(img.shape)\n",
    "\n",
    "#显示图像\n",
    "cv2.imshow(\"Demo\", img)\n",
    "\n",
    "#等待显示\n",
    "cv2.waitKey(0)\n",
    "cv2.destroyAllWindows()\n"
   ]
  },
  {
   "cell_type": "markdown",
   "id": "96395607",
   "metadata": {},
   "source": [
    "2.size-像素数目\n",
    "\n",
    "通过size关键字获取图像的像素数目，\n",
    "其中灰度图像返回行数 * 列数\n",
    "彩色图像返回行数 * 列数 * 通道数\n"
   ]
  },
  {
   "cell_type": "code",
   "execution_count": null,
   "id": "3090091e",
   "metadata": {},
   "outputs": [],
   "source": [
    "# -*- coding:utf-8 -*-\n",
    "import cv2\n",
    "import numpy\n",
    "\n",
    "#读取图片\n",
    "img = cv2.imread(\"test.jpg\", cv2.IMREAD_UNCHANGED)\n",
    "\n",
    "#获取像素数目\n",
    "print(img.size)\n"
   ]
  },
  {
   "cell_type": "markdown",
   "id": "f13eb7ad",
   "metadata": {},
   "source": [
    "3.dtype-图像类型\n",
    "\n",
    "通过dtype关键字\n",
    "获取图像的数据类型，\n",
    "通常返回uint8\n"
   ]
  },
  {
   "cell_type": "code",
   "execution_count": null,
   "id": "1319f36a",
   "metadata": {},
   "outputs": [],
   "source": [
    "\n",
    "#获取图像类型\n",
    "print(img.dtype)"
   ]
  },
  {
   "cell_type": "markdown",
   "id": "bc9fd520",
   "metadata": {},
   "source": [
    "## 3.2获取感兴趣ROI区域"
   ]
  },
  {
   "cell_type": "markdown",
   "id": "b656d945",
   "metadata": {},
   "source": [
    "ROI（Region of Interest）表示感兴趣区域。\n",
    "\n",
    "它是指从被处理图像以方框、圆形、椭圆、不规则多边形等方式勾勒出需要处理的区域。\n",
    "\n",
    "可以通过各种算子（Operator）和函数求得感兴趣ROI区域，并进行图像的下一步处理，被广泛应用于热点地图、人脸识别、图像分割等领域。\n",
    "\n",
    "通过像素矩阵可以直接获取ROI区域，如img[200:400, 200:400]。\n"
   ]
  },
  {
   "cell_type": "code",
   "execution_count": null,
   "id": "b3ca338f",
   "metadata": {},
   "outputs": [],
   "source": [
    "import cv2\n",
    "import numpy as np\n",
    "\n",
    "#读取图片\n",
    "img = cv2.imread(\"test.jpg\", cv2.IMREAD_UNCHANGED)\n",
    "\n",
    "#定义200*100矩阵 3对应BGR\n",
    "face = np.ones((200, 100, 3))\n",
    "\n",
    "#显示原始图像\n",
    "cv2.imshow(\"Demo\", img)\n",
    "\n",
    "#显示ROI区域\n",
    "face = img[200:400, 200:300]\n",
    "cv2.imshow(\"face\", face)\n",
    "\n",
    "#等待显示\n",
    "cv2.waitKey(0)\n",
    "cv2.destroyAllWindows()\n"
   ]
  },
  {
   "cell_type": "markdown",
   "id": "174634c1",
   "metadata": {},
   "source": [
    "下面将提取的ROI图像进行融合实验"
   ]
  },
  {
   "cell_type": "code",
   "execution_count": null,
   "id": "3193b903",
   "metadata": {},
   "outputs": [],
   "source": [
    "import cv2\n",
    "import numpy as np\n",
    "\n",
    "#读取图片\n",
    "img = cv2.imread(\"test.jpg\", cv2.IMREAD_UNCHANGED)\n",
    "\n",
    "#定义300*100矩阵 3对应BGR\n",
    "face = np.ones((200, 200, 3))\n",
    "\n",
    "#显示原始图像\n",
    "cv2.imshow(\"Demo\", img)\n",
    "\n",
    "#显示ROI区域\n",
    "face = img[100:300, 150:350]\n",
    "img[0:200,0:200] = face\n",
    "cv2.imshow(\"face\", img)\n",
    "\n",
    "#等待显示\n",
    "cv2.waitKey(0)\n",
    "cv2.destroyAllWindows()\n"
   ]
  },
  {
   "cell_type": "markdown",
   "id": "4d8995ca",
   "metadata": {},
   "source": [
    "## 3.3图像通道处理"
   ]
  },
  {
   "cell_type": "markdown",
   "id": "2dae2ba3",
   "metadata": {},
   "source": [
    "1.通道拆分\n",
    "\n",
    "OpenCV读取的彩色图像由B、G、R三原色组成\n",
    "\n",
    "B=img[:,:,0]\n",
    "\n",
    "G=img[:,:,1]\n",
    "\n",
    "R=img[:,:,2]\n",
    "\n",
    "也可以使用split()函数拆分通道，下面是拆分不同通道再显示的代码\n"
   ]
  },
  {
   "cell_type": "code",
   "execution_count": null,
   "id": "e04298ec",
   "metadata": {},
   "outputs": [],
   "source": [
    "import cv2\n",
    "import numpy as np\n",
    "\n",
    "#读取图片\n",
    "img = cv2.imread(\"test.jpg\", cv2.IMREAD_UNCHANGED)\n",
    "\n",
    "#拆分通道\n",
    "b, g, r = cv2.split(img)\n",
    "\n",
    "#显示原始图像\n",
    "cv2.imshow(\"B\", b)\n",
    "cv2.imshow(\"G\", g)\n",
    "cv2.imshow(\"R\", r)\n",
    "           \n",
    "#等待显示\n",
    "cv2.waitKey(0)\n",
    "cv2.destroyAllWindows()"
   ]
  },
  {
   "cell_type": "markdown",
   "id": "51ea03bf",
   "metadata": {},
   "source": [
    "2.通道合并\n",
    "\n",
    "图像通道合并主要调用merge()函数实现，\n",
    "\n",
    "核心代码如下：\n",
    "\n",
    "m = cv2.merge([b, g, r])\n",
    "\n",
    "演示效果如下图\n"
   ]
  },
  {
   "cell_type": "code",
   "execution_count": 9,
   "id": "260ee826",
   "metadata": {},
   "outputs": [],
   "source": [
    "import cv2\n",
    "import numpy as np\n",
    "\n",
    "#读取图片\n",
    "img = cv2.imread(\"test.jpg\", cv2.IMREAD_UNCHANGED)\n",
    "\n",
    "#拆分通道\n",
    "b, g, r = cv2.split(img)\n",
    "\n",
    "#合并通道\n",
    "m = cv2.merge([b, g, r])\n",
    "cv2.imshow(\"Merge\", m)\n",
    "           \n",
    "#等待显示\n",
    "cv2.waitKey(0)\n",
    "cv2.destroyAllWindows()\n"
   ]
  },
  {
   "cell_type": "markdown",
   "id": "50035eb7",
   "metadata": {},
   "source": [
    "注意，如果是合并[r,g,b]三通道，则显示如下所示，因OpenCV是按照BGR进行读取的。\n",
    "\n",
    "b, g, r = cv2.split(img)\n",
    "\n",
    "m = cv2.merge([g, r, b])\n",
    "\n",
    "cv2.imshow(“Merge”, m)\n"
   ]
  },
  {
   "cell_type": "code",
   "execution_count": null,
   "id": "88f01ae5",
   "metadata": {},
   "outputs": [],
   "source": [
    "import cv2\n",
    "import numpy as np\n",
    "\n",
    "#读取图片\n",
    "img = cv2.imread(\"test.jpg\", cv2.IMREAD_UNCHANGED)\n",
    "\n",
    "#拆分通道\n",
    "b, g, r = cv2.split(img)\n",
    "\n",
    "#合并通道\n",
    "m = cv2.merge([g, r, b])\n",
    "cv2.imshow(\"Merge\", m)\n",
    "           \n",
    "#等待显示\n",
    "cv2.waitKey(0)\n",
    "cv2.destroyAllWindows()\n"
   ]
  }
 ],
 "metadata": {
  "kernelspec": {
   "display_name": "Python 3 (ipykernel)",
   "language": "python",
   "name": "python3"
  },
  "language_info": {
   "codemirror_mode": {
    "name": "ipython",
    "version": 3
   },
   "file_extension": ".py",
   "mimetype": "text/x-python",
   "name": "python",
   "nbconvert_exporter": "python",
   "pygments_lexer": "ipython3",
   "version": "3.7.11"
  }
 },
 "nbformat": 4,
 "nbformat_minor": 5
}
