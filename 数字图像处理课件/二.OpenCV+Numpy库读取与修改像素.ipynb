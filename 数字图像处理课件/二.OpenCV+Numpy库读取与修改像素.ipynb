{
 "cells": [
  {
   "cell_type": "markdown",
   "id": "7a0706f5",
   "metadata": {},
   "source": [
    "# 二.OpenCV+Numpy库读取与修改像素"
   ]
  },
  {
   "cell_type": "markdown",
   "id": "c9aa252b",
   "metadata": {},
   "source": [
    "主要讲解 OpenCV+Numpy 图像处理基础知识，包括读取像素和修改像素。知识点如下：\n",
    "\n",
    "1.传统读取像素方法\n",
    "\n",
    "2.传统修改像素方法\n",
    "\n",
    "3.Numpy读取像素方法\n",
    "\n",
    "4.Numpy修改像素方法"
   ]
  },
  {
   "cell_type": "markdown",
   "id": "5c78f8f7",
   "metadata": {},
   "source": [
    "## 2.1传统读取像素方法"
   ]
  },
  {
   "cell_type": "markdown",
   "id": "e6dbe9f1",
   "metadata": {},
   "source": [
    "1.灰度图像，返回灰度值\n",
    "返回值=图像(位置参数)，\n",
    "例：p = img[88,142]\n"
   ]
  },
  {
   "cell_type": "code",
   "execution_count": null,
   "id": "a8e50a6e",
   "metadata": {},
   "outputs": [
    {
     "name": "stdout",
     "output_type": "stream",
     "text": [
      "[167 204 230]\n"
     ]
    }
   ],
   "source": [
    "# -*- coding:utf-8 -*-\n",
    "import cv2\n",
    "\n",
    "#读取图片\n",
    "img = cv2.imread(\"test.jpg\", cv2.IMREAD_UNCHANGED)\n",
    "\n",
    "#灰度图像\n",
    "p = img[88, 142]\n",
    "print(p)\n",
    "\n",
    "#显示图像\n",
    "cv2.imshow(\"Demo\", img)\n",
    "\n",
    "#等待显示\n",
    "cv2.waitKey(0)\n",
    "cv2.destroyAllWindows()\n"
   ]
  },
  {
   "cell_type": "markdown",
   "id": "c834fcf4",
   "metadata": {},
   "source": [
    "2.RGB图像，返回R,G,B的值\n",
    "\n",
    "例：\n",
    "\n",
    "r = img[78,125, 2] print(r)\n",
    "\n",
    "g = img[78, 125, 1] print(g)\n",
    "\n",
    "b = img[78, 125, 0] print(b)\n",
    "\n"
   ]
  },
  {
   "cell_type": "code",
   "execution_count": null,
   "id": "44fbc84c",
   "metadata": {},
   "outputs": [],
   "source": [
    "b = img[78, 125, 0]\n",
    "print(b)\n",
    "g = img[78, 125, 1]\n",
    "print(g)\n",
    "r = img[78, 125, 2]\n",
    "print(r)\n",
    "\n",
    "#方法二\n",
    "bgr = img[78, 125]\n",
    "print(bgr)\n",
    "\n",
    "#显示图像\n",
    "cv2.imshow(\"Demo\", img)\n",
    "\n",
    "#等待显示\n",
    "cv2.waitKey(0)\n",
    "cv2.destroyAllWindows()\n",
    "\n",
    "#写入图像\n",
    "cv2.imwrite(\"testyxz.jpg\", img)\n"
   ]
  },
  {
   "cell_type": "markdown",
   "id": "3ba3e92e",
   "metadata": {},
   "source": [
    "## 2.2传统修改像素方法"
   ]
  },
  {
   "cell_type": "markdown",
   "id": "2d492094",
   "metadata": {},
   "source": [
    "1.修改单个像素值\n",
    "\n",
    "BGR图像可以通过位置参数\n",
    "直接访问像素值并进行修改\n"
   ]
  },
  {
   "cell_type": "code",
   "execution_count": null,
   "id": "830b3c64",
   "metadata": {},
   "outputs": [],
   "source": [
    "print(img[78, 125, 0])\n",
    "print(img[78, 125, 1])\n",
    "print(img[78, 125, 2])\n",
    "\n",
    "#修改像素\n",
    "img[78, 125, 0] = 255\n",
    "img[78, 125, 1] = 255\n",
    "img[78, 125, 2] =255\n",
    "\n",
    "print(img[78, 125])\n",
    "img[78, 125] = [10, 10, 10]\n",
    "print(img[78, 125, 0])\n",
    "print(img[78, 125, 1])\n",
    "print(img[78, 125, 2])\n",
    "\n",
    "\n",
    "#方法二\n",
    "print(img[78, 125])\n",
    "img[78, 125] = [10, 10, 10]\n",
    "print(img[78, 125])"
   ]
  },
  {
   "cell_type": "markdown",
   "id": "da98b442",
   "metadata": {},
   "source": [
    "2.修改区域像素\n",
    "\n",
    "通过访问图像数组的位置区域\n",
    "实现区域像素修改。\n",
    "\n",
    "比如 [100:150,400:500] 是\n",
    "访问第100到150行，\n",
    "400到500列的区域，\n",
    "再对该区域像素进行修改。\n"
   ]
  },
  {
   "cell_type": "code",
   "execution_count": null,
   "id": "62b71d63",
   "metadata": {},
   "outputs": [],
   "source": [
    "img[100:150, 400:500] = [255, 255, 0]\n",
    "\n",
    "#显示图像\n",
    "cv2.imshow(\"Demo\", img)\n",
    "\n",
    "#等待显示\n",
    "cv2.waitKey(0)\n",
    "cv2.destroyAllWindows()\n",
    "\n",
    "#写入图像\n",
    "cv2.imwrite(\"testyxz.jpg\", img)"
   ]
  },
  {
   "cell_type": "markdown",
   "id": "b841b236",
   "metadata": {},
   "source": [
    "## 2.3 Numpy读取像素方法"
   ]
  },
  {
   "cell_type": "markdown",
   "id": "ca42bb28",
   "metadata": {},
   "source": [
    "使用Numpy进行像素读取，\n",
    "调用方式如下：\n",
    "\n",
    "返回值 = 图像.item(位置参数)\n"
   ]
  },
  {
   "cell_type": "code",
   "execution_count": null,
   "id": "e38974a9",
   "metadata": {},
   "outputs": [],
   "source": [
    "import cv2\n",
    "import numpy\n",
    "\n",
    "#读取图片\n",
    "img = cv2.imread(\"test.jpg\", cv2.IMREAD_UNCHANGED)\n",
    "\n",
    "#Numpy读取像素\n",
    "blue = img.item(78, 100, 0)\n",
    "green = img.item(78, 100, 1)\n",
    "red = img.item(78, 100, 2)\n",
    "print(blue)\n",
    "print(green)\n",
    "print(red)\n",
    "\n",
    "#显示图像\n",
    "cv2.imshow(\"Demo\", img)\n",
    "\n",
    "#等待显示\n",
    "cv2.waitKey(0)\n",
    "cv2.destroyAllWindows()\n"
   ]
  },
  {
   "cell_type": "markdown",
   "id": "84ee62dc",
   "metadata": {},
   "source": [
    "## 2.4 Numpy 修改像素方法"
   ]
  },
  {
   "cell_type": "markdown",
   "id": "b5351193",
   "metadata": {},
   "source": [
    "使用Numpy的itemset函数修改像素，\n",
    "调用方式如下：\n",
    "\n",
    "图像.itemset(位置, 新值)\n",
    "例如：\n",
    "\n",
    "img.itemset((88,99), 255)\n"
   ]
  },
  {
   "cell_type": "code",
   "execution_count": null,
   "id": "9b294721",
   "metadata": {},
   "outputs": [],
   "source": [
    "#Numpy读取像素\n",
    "print(img.item(78, 100, 0))\n",
    "print(img.item(78, 100, 1))\n",
    "print(img.item(78, 100, 2))\n",
    "img.itemset((78, 100, 0), 100)\n",
    "img.itemset((78, 100, 1), 100)\n",
    "img.itemset((78, 100, 2), 100)\n",
    "print(img.item(78, 100, 0))\n",
    "print(img.item(78, 100, 1))\n",
    "print(img.item(78, 100, 2))\n",
    "#同时输出RGB 三通道方法如下\n",
    "print(img[78, 78])\n",
    "img.itemset((78, 78, 0), 0)\n",
    "img.itemset((78, 78, 1), 0)\n",
    "img.itemset((78, 78, 2), 0)\n",
    "print(img[78, 78])\n",
    "#[211 215 220]\n",
    "#[0 0 0]"
   ]
  }
 ],
 "metadata": {
  "kernelspec": {
   "display_name": "Python 3 (ipykernel)",
   "language": "python",
   "name": "python3"
  },
  "language_info": {
   "codemirror_mode": {
    "name": "ipython",
    "version": 3
   },
   "file_extension": ".py",
   "mimetype": "text/x-python",
   "name": "python",
   "nbconvert_exporter": "python",
   "pygments_lexer": "ipython3",
   "version": "3.7.11"
  }
 },
 "nbformat": 4,
 "nbformat_minor": 5
}
